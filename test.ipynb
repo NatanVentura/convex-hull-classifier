{
 "cells": [
  {
   "cell_type": "code",
   "execution_count": 1,
   "metadata": {},
   "outputs": [],
   "source": [
    "import matplotlib.pyplot as plt\n",
    "from math import acos, pi\n",
    "from classifier import *\n",
    "from convex_hull import *\n",
    "from primitives import *\n",
    "import random"
   ]
  },
  {
   "cell_type": "code",
   "execution_count": 2,
   "metadata": {},
   "outputs": [],
   "source": [
    "def plotCH(cl):\n",
    "    ch = cl.ch1\n",
    "    ch2 = cl.ch2\n",
    "    coord = ch.hull\n",
    "    coord2 =ch2.hull\n",
    "    coord2.append(coord2[0])\n",
    "    coord.append(coord[0]) #repeat the first point to create a 'closed loop'\n",
    "\n",
    "    xs = list(map( lambda pt : pt.x, coord)) #create lists of x and y values\n",
    "    ys = list(map( lambda pt : pt.y, coord))\n",
    "    xs2 = list(map( lambda pt : pt.x, coord2)) #create lists of x and y values\n",
    "    ys2 = list(map( lambda pt : pt.y, coord2))\n",
    "    print('Interpect' if(not areIndependent(ch,ch2)) else 'Dont Intercept')\n",
    "    plt.figure()\n",
    "    plt.scatter(list(map( lambda pt : pt.x, ch2.all_points)), list(map( lambda pt : pt.y, ch2.all_points)))\n",
    "    plt.scatter(list(map( lambda pt : pt.x, ch.all_points)), list(map( lambda pt : pt.y, ch.all_points)))\n",
    "    plt.plot(xs2,ys2)\n",
    "    plt.plot(xs,ys) \n",
    "    if(areIndependent(ch,ch2)):\n",
    "        p,q = cl.p,cl.q\n",
    "        qp = distP2P(q,p)\n",
    "        \"\"\" pr = distP2P(r,p)\n",
    "        rq = distP2P(q,r)\n",
    "        theta = acos((qp**2+pr**2-rq**2)/(2*qp*pr)) * (180/pi) \"\"\"\n",
    "        #print(theta)\n",
    "        lx = [p.x,q.x]\n",
    "        ly = [p.y,q.y]\n",
    "        plt.plot(lx,ly)\n",
    "        \"\"\" lx = [r.x,s.x]\n",
    "        ly = [r.y,s.y] \"\"\"\n",
    "        plt.plot(lx,ly)\n",
    "    plt.show()"
   ]
  },
  {
   "cell_type": "code",
   "execution_count": 17,
   "metadata": {},
   "outputs": [],
   "source": [
    "def randPoint(n, min,seed = 7):\n",
    "    random.seed = seed\n",
    "    pts = []\n",
    "    for i in range(n):\n",
    "        x = random.randint(min,min+ n*10)\n",
    "        y = random.randint(min,min + n*10)\n",
    "        pts.append(Point(x,y))\n",
    "    return pts\n",
    "\n",
    "k = 3\n",
    "cv2 = Convex_hull(randPoint(k,0),\"Macaco\")\n",
    "cv1 = Convex_hull(randPoint(k,k*10),\"Não mamaco\")"
   ]
  },
  {
   "cell_type": "code",
   "execution_count": 16,
   "metadata": {},
   "outputs": [
    {
     "name": "stdout",
     "output_type": "stream",
     "text": [
      "Macaco\n"
     ]
    }
   ],
   "source": [
    "cl = Classifier(cv1,cv2)\n",
    "cl.separatingAxis()\n",
    "plotCH(cl)\n",
    "cl.classify(Point(0,0))"
   ]
  }
 ],
 "metadata": {
  "interpreter": {
   "hash": "916dbcbb3f70747c44a77c7bcd40155683ae19c65e1c03b4aa3499c5328201f1"
  },
  "kernelspec": {
   "display_name": "Python 3.10.4 64-bit",
   "language": "python",
   "name": "python3"
  },
  "language_info": {
   "codemirror_mode": {
    "name": "ipython",
    "version": 3
   },
   "file_extension": ".py",
   "mimetype": "text/x-python",
   "name": "python",
   "nbconvert_exporter": "python",
   "pygments_lexer": "ipython3",
   "version": "3.10.4"
  },
  "orig_nbformat": 4
 },
 "nbformat": 4,
 "nbformat_minor": 2
}
